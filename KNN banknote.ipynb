{
 "cells": [
  {
   "cell_type": "code",
   "execution_count": 2,
   "metadata": {
    "collapsed": true
   },
   "outputs": [],
   "source": [
    "#Importing required packages \n",
    "from sklearn.neighbors import KNeighborsClassifier \n",
    "from sklearn import metrics \n",
    "from sklearn.model_selection import train_test_split \n",
    "import matplotlib.pyplot as plt \n",
    "import matplotlib as mpl \n",
    "import numpy as np \n",
    "import seaborn \n",
    "from pprint import pprint \n",
    "%matplotlib inline"
   ]
  },
  {
   "cell_type": "code",
   "execution_count": 3,
   "metadata": {},
   "outputs": [
    {
     "name": "stdout",
     "output_type": "stream",
     "text": [
      "(1372, 4) (1372,)\n"
     ]
    }
   ],
   "source": [
    "#Download the data from the UCI website using urllib \n",
    "import urllib \n",
    "url = (\"https://archive.ics.uci.edu/ml/machine-learning-databases/00267/data_banknote_authentication.txt\") \n",
    "raw_data = urllib.request.urlopen(url) \n",
    "#The file is a CSV, let's read it into a numpy array \n",
    "#Note: not using Pandas to examine/clean the dataset at this point since this dataset is pretty well-cleansed. \n",
    "diab = np.genfromtxt(raw_data, delimiter=\",\") \n",
    "#This dataset has 9 columns, 9th one seems to be the labels, 1 or 0 for Diabetes or no Diabetes. \n",
    "#Let's split into X,y \n",
    "X,y = diab[:,:-1], diab[:,-1:].squeeze() \n",
    "#squeeze to flatten the labels into the vector y \n",
    "print (X.shape, y.shape) \n",
    "#Let's run the train/test split \n",
    "X_train, X_test, y_train, y_test = train_test_split(X,y) "
   ]
  },
  {
   "cell_type": "code",
   "execution_count": 4,
   "metadata": {},
   "outputs": [
    {
     "name": "stdout",
     "output_type": "stream",
     "text": [
      "Results with 50 Neighbors\n",
      "               precision    recall  f1-score   support\n",
      "\n",
      "Fake Banknote       1.00      0.98      0.99       199\n",
      "Real Banknote       0.97      1.00      0.99       144\n",
      "\n",
      "  avg / total       0.99      0.99      0.99       343\n",
      "\n",
      "               precision    recall  f1-score   support\n",
      "\n",
      "Fake Banknote       1.00      0.98      0.99       563\n",
      "Real Banknote       0.97      1.00      0.99       466\n",
      "\n",
      "  avg / total       0.99      0.99      0.99      1029\n",
      "\n"
     ]
    }
   ],
   "source": [
    "#Great! now, let's run the kNN classifier with 3 neighbors and see how it does. \n",
    "diab_knn = KNeighborsClassifier(n_neighbors=50).fit(X_train, y_train) \n",
    "y_pred = diab_knn.predict(X_test) \n",
    "y_train_pred = diab_knn.predict(X_train) \n",
    "#Let's get the score summary \n",
    "print (\"Results with 50 Neighbors\") \n",
    "print (metrics.classification_report(y_test, y_pred, target_names=['Fake Banknote', 'Real Banknote'])) \n",
    "print (metrics.classification_report(y_train, y_train_pred, target_names=['Fake Banknote', 'Real Banknote'])) \n",
    "#So we had a training accuracy of 84% but only a test accuracy of 72% \n",
    "#The precision/recall metrics tell us out of each category (No Diabetes or Diabetes) how many we predicted right."
   ]
  },
  {
   "cell_type": "code",
   "execution_count": 5,
   "metadata": {},
   "outputs": [
    {
     "name": "stdout",
     "output_type": "stream",
     "text": [
      "Results with 100 Neighbors\n",
      "               precision    recall  f1-score   support\n",
      "\n",
      "Fake Banknote       0.99      0.97      0.98       199\n",
      "Real Banknote       0.96      0.99      0.98       144\n",
      "\n",
      "  avg / total       0.98      0.98      0.98       343\n",
      "\n",
      "               precision    recall  f1-score   support\n",
      "\n",
      "Fake Banknote       0.99      0.96      0.97       563\n",
      "Real Banknote       0.95      0.98      0.97       466\n",
      "\n",
      "  avg / total       0.97      0.97      0.97      1029\n",
      "\n"
     ]
    }
   ],
   "source": [
    "#OK, not so great so far. Let's see if we can improve the score by increasing neighbors. \n",
    "diab_knn = KNeighborsClassifier(n_neighbors=100).fit(X_train, y_train) \n",
    "y_pred = diab_knn.predict(X_test) \n",
    "y_train_pred = diab_knn.predict(X_train) \n",
    "#Let's get the score summary \n",
    "print (\"Results with 100 Neighbors\") \n",
    "print (metrics.classification_report(y_test, y_pred, target_names=['Fake Banknote', 'Real Banknote'])) \n",
    "print (metrics.classification_report(y_train, y_train_pred, target_names=['Fake Banknote', 'Real Banknote'])) \n",
    "#OK we did ever so slightly better on the test set but did much poorly on the Training set. \n",
    "#If we continue to tune in this fashion, we will end up biasing our model based on the Test set. \n",
    "#Trying out even more number of neighbors, turns out our first choice of neighbors=3 is actually the best, \n",
    "#Is there any other setting we could play with? "
   ]
  },
  {
   "cell_type": "code",
   "execution_count": 6,
   "metadata": {},
   "outputs": [
    {
     "name": "stdout",
     "output_type": "stream",
     "text": [
      "Results with 5 Neighbors\n",
      "               precision    recall  f1-score   support\n",
      "\n",
      "Fake Banknote       1.00      1.00      1.00       199\n",
      "Real Banknote       1.00      1.00      1.00       144\n",
      "\n",
      "  avg / total       1.00      1.00      1.00       343\n",
      "\n",
      "               precision    recall  f1-score   support\n",
      "\n",
      "Fake Banknote       1.00      1.00      1.00       563\n",
      "Real Banknote       1.00      1.00      1.00       466\n",
      "\n",
      "  avg / total       1.00      1.00      1.00      1029\n",
      "\n"
     ]
    }
   ],
   "source": [
    "#OK, not so great so far. Let's see if we can improve the score by increasing neighbors. \n",
    "diab_knn = KNeighborsClassifier(n_neighbors=5).fit(X_train, y_train) \n",
    "y_pred = diab_knn.predict(X_test) \n",
    "y_train_pred = diab_knn.predict(X_train) \n",
    "#Let's get the score summary \n",
    "print (\"Results with 5 Neighbors\") \n",
    "print (metrics.classification_report(y_test, y_pred, target_names=['Fake Banknote', 'Real Banknote'])) \n",
    "print (metrics.classification_report(y_train, y_train_pred, target_names=['Fake Banknote', 'Real Banknote'])) \n",
    "#OK we did ever so slightly better on the test set but did much poorly on the Training set. \n",
    "#If we continue to tune in this fashion, we will end up biasing our model based on the Test set. \n",
    "#Trying out even more number of neighbors, turns out our first choice of neighbors=3 is actually the best, \n",
    "#Is there any other setting we could play with? "
   ]
  },
  {
   "cell_type": "code",
   "execution_count": 7,
   "metadata": {},
   "outputs": [
    {
     "name": "stdout",
     "output_type": "stream",
     "text": [
      "Automatically created module for IPython interactive environment\n"
     ]
    },
    {
     "name": "stderr",
     "output_type": "stream",
     "text": [
      "C:\\Users\\morgan.s.hoover\\AppData\\Local\\Continuum\\Anaconda3\\lib\\site-packages\\sklearn\\cross_validation.py:44: DeprecationWarning: This module was deprecated in version 0.18 in favor of the model_selection module into which all the refactored classes and functions are moved. Also note that the interface of the new CV iterators are different from that of this module. This module will be removed in 0.20.\n",
      "  \"This module will be removed in 0.20.\", DeprecationWarning)\n"
     ]
    }
   ],
   "source": [
    "#Below is a plot_learning_curve module that's provided by scikit-learn. It allows us to quickly and easily visualize how \n",
    "#well the model is performing based on number of samples we're training on. It helps to understand situations such as \n",
    "#high variance or bias. \n",
    "#We'll call this module in the next segment. \n",
    "print(__doc__) \n",
    "import numpy as np \n",
    "import matplotlib.pyplot as plt \n",
    "from sklearn import cross_validation \n",
    "from sklearn.naive_bayes import GaussianNB \n",
    "from sklearn.svm import SVC \n",
    "from sklearn.datasets import load_digits \n",
    "from sklearn import model_selection \n",
    "def plot_learning_curve(estimator, title, X, y, ylim=None, cv=None, n_jobs=1, train_sizes=np.linspace(.1, 1.0, 5)): \n",
    "    \"\"\" \n",
    "    Generate a simple plot of the test and traning learning curve. \n",
    "    Parameters ---------- \n",
    "    estimator : object type that implements the \"fit\" and \"predict\" methods \n",
    "    An object of that type which is cloned for each validation. \n",
    "    title : string Title for the chart. \n",
    "    X : array-like, shape (n_samples, n_features) \n",
    "    Training vector, where n_samples is the number of samples and \n",
    "    n_features is the number of features. \n",
    "    y : array-like, shape (n_samples) or (n_samples, n_features), optional \n",
    "    Target relative to X for classification or regression; \n",
    "    None for unsupervised learning. \n",
    "    ylim : tuple, shape (ymin, ymax), optional \n",
    "    Defines minimum and maximum yvalues plotted. \n",
    "    cv : integer, cross-validation generator, optional \n",
    "    If an integer is passed, it is the number of folds (defaults to 3). \n",
    "    Specific cross-validation objects can be passed, see \n",
    "    sklearn.cross_validation module for the list of possible objects \n",
    "    n_jobs : integer, optional \n",
    "    Number of jobs to run in parallel (default 1). \n",
    "    \"\"\" \n",
    "    plt.figure() \n",
    "    plt.title(title) \n",
    "    if ylim is not None: \n",
    "        plt.ylim(*ylim) \n",
    "    plt.xlabel(\"Training examples\") \n",
    "    plt.ylabel(\"Score\") \n",
    "    train_sizes, train_scores, test_scores = learning_curve(estimator, X, y, cv=cv, n_jobs=n_jobs, train_sizes=train_sizes) \n",
    "    train_scores_mean = np.mean(train_scores, axis=1) \n",
    "    train_scores_std = np.std(train_scores, axis=1) \n",
    "    test_scores_mean = np.mean(test_scores, axis=1) \n",
    "    test_scores_std = np.std(test_scores, axis=1) \n",
    "    plt.grid() \n",
    "    plt.fill_between(train_sizes, train_scores_mean - train_scores_std, train_scores_mean + train_scores_std, alpha=0.1, color=\"r\") \n",
    "    plt.fill_between(train_sizes, test_scores_mean - test_scores_std, test_scores_mean + test_scores_std, alpha=0.1, color=\"g\") \n",
    "    plt.plot(train_sizes, train_scores_mean, 'o-', color=\"r\", label=\"Training score\") \n",
    "    plt.plot(train_sizes, test_scores_mean, 'o-', color=\"g\", label=\"Cross-validation score\") \n",
    "    plt.legend(loc=\"best\") "
   ]
  },
  {
   "cell_type": "code",
   "execution_count": 8,
   "metadata": {},
   "outputs": [
    {
     "name": "stdout",
     "output_type": "stream",
     "text": [
      "KNeighborsClassifier(algorithm='auto', leaf_size=30, metric='minkowski',\n",
      "           metric_params=None, n_jobs=1, n_neighbors=4, p=2,\n",
      "           weights='uniform')\n"
     ]
    },
    {
     "data": {
      "image/png": "[encoded data removed]",
      "text/plain": [
       "<matplotlib.figure.Figure at 0x23be5160eb8>"
      ]
     },
     "metadata": {},
     "output_type": "display_data"
    }
   ],
   "source": [
    "from sklearn.model_selection import learning_curve\n",
    "#Let's try one last technique of creating a cross-validation set. Like I mentioned earlier, when you tune parameters \n",
    "#based on Test results, you could possibly end up biasing your model based on Test. Although this may not be an issue \n",
    "#in many instances, you could create a cross validation set to avoid this. \n",
    "#Luckily scikit-learn has builit-in packages that can help with this. We'll use a crossvalidation generator that \n",
    "#can train the model by tuning the parameters based on a cross-validation subset (cv) that is picked from within the training \n",
    "#set. A different cv subset will be picked for each iteration, we control the number of iterations. Then we will use these \n",
    "#cv/train splits and run a gridsearch function that will evaluate the model with each split and tune parameters to give us \n",
    "#the best parameter that gives the optimal result. \n",
    "#OK let's now follow these steps to implement the above and see if it makes any difference to the result \n",
    "#80/20 test split \n",
    "X_train, X_test, y_train, y_test = train_test_split(X, y, test_size=0.2, random_state=0) \n",
    "#Choose Estimator as KNN \n",
    "estimator = KNeighborsClassifier(n_neighbors=3) \n",
    "#Choose cross-validation generator - let's choose ShuffleSplit which randomly shuffles and selects Train and CV sets \n",
    "#for each iteration. There are other methods like the KFold split. \n",
    "from sklearn.cross_validation import ShuffleSplit \n",
    "#cv = KFold(X_train.shape[0]) \n",
    "cv = ShuffleSplit(X_train.shape[0], n_iter=10, test_size=0.2, random_state=0) \n",
    "#Apply the cross-validation iterator on the Training set using GridSearchCV. This will run the classifier on the \n",
    "#different train/cv splits using parameters specified and return the model that has the best results \n",
    "#Note that we are tuning based on the F1 score 2PR/P+R where P is Precision and R is Recall. This may not always be \n",
    "#the best score to tune our model on. I will explore this area further in a seperate exercise. For now, we'll use F1. \n",
    "from sklearn.model_selection import GridSearchCV \n",
    "classifier = GridSearchCV(estimator=estimator, cv=cv, param_grid=dict(n_neighbors=[2,3,4,5]), scoring='f1') \n",
    "#Also note that we're feeding multiple neighbors to the GridSearch to try out. \n",
    "#We'll now fit the training dataset to this classifier \n",
    "classifier.fit(X_train, y_train) \n",
    "#Let's look at the best estimator that was found by GridSearchCV \n",
    "print (classifier.best_estimator_) \n",
    "#Let's look at the learning curve for our model based on number of training examples. We'll call the plot_learning_curve \n",
    "#module by feeding it the estimator (best estimator returned from GS) and train/cv sets. \n",
    "#The module simply runs the estimator multiple times on subsets of the data provided and plots the train and cv scores. \n",
    "from sklearn import model_selection  \n",
    "title = 'Learning Curves (kNN, $\\n_neighbors=%.6f$)' %classifier.best_estimator_.n_neighbors \n",
    "estimator = KNeighborsClassifier(n_neighbors=classifier.best_estimator_.n_neighbors) \n",
    "plot_learning_curve(estimator, title, X_train, y_train, cv=cv) \n",
    "plt.show() \n",
    "#Great, we see that as the number of training samples increases, both training and cv scores are on the rise. This is \n",
    "#a good sign. If training score rose but cv score fell that would indicate high variance (overfitting). If both train and cv \n",
    "#scores are low that would indicate high bias (underfitting)."
   ]
  },
  {
   "cell_type": "code",
   "execution_count": 11,
   "metadata": {},
   "outputs": [
    {
     "name": "stdout",
     "output_type": "stream",
     "text": [
      "Accuracy Score:  1.0\n",
      "The optimal number of neighbors is 5\n"
     ]
    },
    {
     "data": {
      "image/png": "[encoded data removed]",
      "text/plain": [
       "<matplotlib.figure.Figure at 0x1cf55986160>"
      ]
     },
     "metadata": {},
     "output_type": "display_data"
    }
   ],
   "source": [
    "# loading libraries\n",
    "import numpy as np\n",
    "from sklearn.cross_validation import train_test_split\n",
    "from sklearn.metrics import accuracy_score\n",
    "from sklearn.model_selection import cross_val_score\n",
    "\n",
    "import pandas as pd\n",
    "df=pd.read_csv('https://archive.ics.uci.edu/ml/machine-learning-databases/00267/data_banknote_authentication.txt', sep=',',header=None)\n",
    "df.values\n",
    "\n",
    "#Our dataset and targets\n",
    "X = df.values[:,0:4]\n",
    "y = df.values[:,4]\n",
    "\n",
    "# # create design matrix X and target vector y\n",
    "# X = np.array(df.ix[:, 0:4]) \t# end index is exclusive\n",
    "# y = np.array(df['class']) \t# another way of indexing a pandas df\n",
    "\n",
    "# split into train and test\n",
    "X_train, X_test, y_train, y_test = train_test_split(X, y, test_size=0.33, random_state=42)\n",
    "# loading library\n",
    "from sklearn.neighbors import KNeighborsClassifier\n",
    "\n",
    "# instantiate learning model (k = 3)\n",
    "knn = KNeighborsClassifier(n_neighbors=3)\n",
    "\n",
    "# fitting the model\n",
    "knn.fit(X_train, y_train)\n",
    "\n",
    "# predict the response\n",
    "pred = knn.predict(X_test)\n",
    "\n",
    "# evaluate accuracy\n",
    "print (\"Accuracy Score: \", accuracy_score(y_test, pred))\n",
    "# creating odd list of K for KNN\n",
    "myList = list(range(1,50))\n",
    "\n",
    "# subsetting just the odd ones\n",
    "neighbors = list(filter(lambda x: x % 2 != 0, myList))\n",
    "\n",
    "# empty list that will hold cv scores\n",
    "cv_scores = []\n",
    "\n",
    "# perform 10-fold cross validation\n",
    "for k in neighbors:\n",
    "    knn = KNeighborsClassifier(n_neighbors=k)\n",
    "    scores = cross_val_score(knn, X_train, y_train, cv=10, scoring='accuracy')\n",
    "    cv_scores.append(scores.mean())\n",
    "# changing to misclassification error\n",
    "MSE = [1 - x for x in cv_scores]\n",
    "\n",
    "# determining best k\n",
    "optimal_k = neighbors[MSE.index(min(MSE))]\n",
    "print (\"The optimal number of neighbors is %d\" % optimal_k)\n",
    "\n",
    "# plot misclassification error vs k\n",
    "plt.plot(neighbors, MSE)\n",
    "plt.xlabel('Number of Neighbors K')\n",
    "plt.ylabel('Misclassification Error')\n",
    "plt.show()\n"
   ]
  },
  {
   "cell_type": "code",
   "execution_count": 10,
   "metadata": {},
   "outputs": [
    {
     "name": "stdout",
     "output_type": "stream",
     "text": [
      "Final Classification Report\n",
      "             precision    recall  f1-score   support\n",
      "\n",
      "        0.0       1.00      1.00      1.00       157\n",
      "        1.0       1.00      1.00      1.00       118\n",
      "\n",
      "avg / total       1.00      1.00      1.00       275\n",
      "\n",
      "Generalization Accuracy: 1.000000\n"
     ]
    }
   ],
   "source": [
    "#Let's finally predict the Test labels and look at the final scores. Remember we've not touched our test set so far. This is \n",
    "#to get a good grip on how well the model will generalize. \n",
    "y_pred = classifier.predict(X_test) \n",
    "print (\"Final Classification Report\") \n",
    "print (metrics.classification_report(y_test, y_pred)) \n",
    "print (\"Generalization Accuracy: %.6f\" %metrics.accuracy_score(y_test,y_pred)) "
   ]
  },
  {
   "cell_type": "code",
   "execution_count": null,
   "metadata": {
    "collapsed": true
   },
   "outputs": [],
   "source": []
  }
 ],
 "metadata": {
  "kernelspec": {
   "display_name": "Python 3",
   "language": "python",
   "name": "python3"
  },
  "language_info": {
   "codemirror_mode": {
    "name": "ipython",
    "version": 3
   },
   "file_extension": ".py",
   "mimetype": "text/x-python",
   "name": "python",
   "nbconvert_exporter": "python",
   "pygments_lexer": "ipython3",
   "version": "3.6.1"
  }
 },
 "nbformat": 4,
 "nbformat_minor": 2
}
