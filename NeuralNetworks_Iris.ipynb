{
 "cells": [
  {
   "cell_type": "code",
   "execution_count": 9,
   "metadata": {},
   "outputs": [
    {
     "name": "stdout",
     "output_type": "stream",
     "text": [
      "MLPClassifier(activation='relu', alpha=1e-05, batch_size='auto', beta_1=0.9,\n",
      "       beta_2=0.999, early_stopping=False, epsilon=1e-08,\n",
      "       hidden_layer_sizes=(15,), learning_rate='constant',\n",
      "       learning_rate_init=0.001, max_iter=200, momentum=0.9,\n",
      "       nesterovs_momentum=True, power_t=0.5, random_state=1, shuffle=True,\n",
      "       solver='lbfgs', tol=0.0001, validation_fraction=0.1, verbose=False,\n",
      "       warm_start=False)\n"
     ]
    }
   ],
   "source": [
    "from sklearn.neural_network import MLPClassifier\n",
    "import pandas as pd\n",
    "df=pd.read_csv('https://archive.ics.uci.edu/ml/machine-learning-databases/iris/iris.data', sep=',',header=None)\n",
    "df.values\n",
    "data = df.values[:,0:4]\n",
    "target = df.values[:,4]\n",
    "\n",
    "for i in range(0,len(target)):\n",
    "    if(target[i] == 'Iris-setosa'):\n",
    "        target[i] = 1\n",
    "    elif(target[i] == 'Iris-versicolor'):\n",
    "        target[i] = 2\n",
    "    elif(target[i] == 'Iris-virginica'):\n",
    "        target[i] = 3\n",
    "    else:\n",
    "        print('Target index: ', i, ' Not Handled! Value: ', target[i])\n",
    "        \n",
    "\n",
    "import numpy as np\n",
    "from sklearn.model_selection import train_test_split\n",
    "data_training, data_testing, target_training1, target_testing1 = train_test_split(data, target, test_size=0.33, random_state=42)\n",
    "\n",
    "i = 0\n",
    "target_training = []\n",
    "while i < len(target_training1):\n",
    "    x = target_training1[i]\n",
    "    target_training.append(x)\n",
    "    i = i + 1\n",
    "\n",
    "i = 0\n",
    "target_testing = []\n",
    "while i < len(target_testing1):\n",
    "    x = target_testing1[i]\n",
    "    target_testing.append(x)\n",
    "    i = i + 1\n",
    "\n",
    "clf = MLPClassifier(solver='lbfgs'\n",
    "                   , alpha=1e-5\n",
    "                   , hidden_layer_sizes=(15,)\n",
    "                   , random_state=1\n",
    "                   )\n",
    "clf.fit(data_training, target_training)\n",
    "print(clf)"
   ]
  },
  {
   "cell_type": "code",
   "execution_count": 10,
   "metadata": {},
   "outputs": [
    {
     "name": "stdout",
     "output_type": "stream",
     "text": [
      "[2 1 3 2 2 1 2 3 2 2 3 1 1 1 1 2 3 2 2 3 1 3 1 3 3 3 3 3 1 1 1 1 2 1 1 3 2\n",
      " 1 1 1 3 2 2 1 1 2 2 3 2 3]\n",
      "[6.1 2.8 4.7 1.2]  =  2  results =  2\n",
      "[5.7 3.8 1.7 0.3]  =  1  results =  1\n",
      "[7.7 2.6 6.9 2.3]  =  3  results =  3\n",
      "[6.0 2.9 4.5 1.5]  =  2  results =  2\n",
      "[6.8 2.8 4.8 1.4]  =  2  results =  2\n",
      "[5.4 3.4 1.5 0.4]  =  1  results =  1\n",
      "[5.6 2.9 3.6 1.3]  =  2  results =  2\n",
      "[6.9 3.1 5.1 2.3]  =  3  results =  3\n",
      "[6.2 2.2 4.5 1.5]  =  2  results =  2\n",
      "[5.8 2.7 3.9 1.2]  =  2  results =  2\n",
      "[6.5 3.2 5.1 2.0]  =  3  results =  3\n",
      "[4.8 3.0 1.4 0.1]  =  1  results =  1\n",
      "[5.5 3.5 1.3 0.2]  =  1  results =  1\n",
      "[4.9 3.1 1.5 0.1]  =  1  results =  1\n",
      "[5.1 3.8 1.5 0.3]  =  1  results =  1\n",
      "[6.3 3.3 4.7 1.6]  =  2  results =  2\n",
      "[6.5 3.0 5.8 2.2]  =  3  results =  3\n",
      "[5.6 2.5 3.9 1.1]  =  2  results =  2\n",
      "[5.7 2.8 4.5 1.3]  =  2  results =  2\n",
      "[6.4 2.8 5.6 2.2]  =  3  results =  3\n",
      "[4.7 3.2 1.6 0.2]  =  1  results =  1\n",
      "[6.1 3.0 4.9 1.8]  =  3  results =  3\n",
      "[5.0 3.4 1.6 0.4]  =  1  results =  1\n",
      "[6.4 2.8 5.6 2.1]  =  3  results =  3\n",
      "[7.9 3.8 6.4 2.0]  =  3  results =  3\n",
      "[6.7 3.0 5.2 2.3]  =  3  results =  3\n",
      "[6.7 2.5 5.8 1.8]  =  3  results =  3\n",
      "[6.8 3.2 5.9 2.3]  =  3  results =  3\n",
      "[4.8 3.0 1.4 0.3]  =  1  results =  1\n",
      "[4.8 3.1 1.6 0.2]  =  1  results =  1\n",
      "[4.6 3.6 1.0 0.2]  =  1  results =  1\n",
      "[5.7 4.4 1.5 0.4]  =  1  results =  1\n",
      "[6.7 3.1 4.4 1.4]  =  2  results =  2\n",
      "[4.8 3.4 1.6 0.2]  =  1  results =  1\n",
      "[4.4 3.2 1.3 0.2]  =  1  results =  1\n",
      "[6.3 2.5 5.0 1.9]  =  3  results =  3\n",
      "[6.4 3.2 4.5 1.5]  =  2  results =  2\n",
      "[5.2 3.5 1.5 0.2]  =  1  results =  1\n",
      "[5.0 3.6 1.4 0.2]  =  1  results =  1\n",
      "[5.2 4.1 1.5 0.1]  =  1  results =  1\n",
      "[5.8 2.7 5.1 1.9]  =  3  results =  3\n",
      "[6.0 3.4 4.5 1.6]  =  2  results =  2\n",
      "[6.7 3.1 4.7 1.5]  =  2  results =  2\n",
      "[5.4 3.9 1.3 0.4]  =  1  results =  1\n",
      "[5.4 3.7 1.5 0.2]  =  1  results =  1\n",
      "[5.5 2.4 3.7 1.0]  =  2  results =  2\n",
      "[6.3 2.8 5.1 1.5]  =  3  results =  2\n",
      "[6.4 3.1 5.5 1.8]  =  3  results =  3\n",
      "[6.6 3.0 4.4 1.4]  =  2  results =  2\n",
      "[7.2 3.6 6.1 2.5]  =  3  results =  3\n",
      "Accuracy =  98.0 %\n"
     ]
    }
   ],
   "source": [
    "results = clf.predict(data_testing)\n",
    "print(results)\n",
    "resultsLength = len(results)\n",
    "for i in range(0,len(data_testing)):\n",
    "    print(data_testing[i], ' = ', target_testing[i], ' results = ', results[i])\n",
    "j = 0\n",
    "for i in range (0, resultsLength):\n",
    "    if(results[i] == target_testing[i]):\n",
    "        j = j + 1\n",
    "        \n",
    "print('Accuracy = ', (j/resultsLength)*100, '%')\n"
   ]
  },
  {
   "cell_type": "code",
   "execution_count": null,
   "metadata": {
    "collapsed": true
   },
   "outputs": [],
   "source": []
  }
 ],
 "metadata": {
  "kernelspec": {
   "display_name": "Python 3",
   "language": "python",
   "name": "python3"
  },
  "language_info": {
   "codemirror_mode": {
    "name": "ipython",
    "version": 3
   },
   "file_extension": ".py",
   "mimetype": "text/x-python",
   "name": "python",
   "nbconvert_exporter": "python",
   "pygments_lexer": "ipython3",
   "version": "3.6.1"
  }
 },
 "nbformat": 4,
 "nbformat_minor": 2
}
